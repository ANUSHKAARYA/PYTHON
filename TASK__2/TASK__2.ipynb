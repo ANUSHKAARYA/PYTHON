{
 "cells": [
  {
   "cell_type": "code",
   "execution_count": 3,
   "id": "a76a93b4",
   "metadata": {},
   "outputs": [
    {
     "name": "stdout",
     "output_type": "stream",
     "text": [
      "Enter a number3\n",
      "14\n"
     ]
    }
   ],
   "source": [
    "a=int(input(\"Enter a number\"))\n",
    "if a<17:\n",
    "    print(int(17-a))\n",
    "else:\n",
    "    print(int(2*abs(17-a)))"
   ]
  },
  {
   "cell_type": "code",
   "execution_count": 2,
   "id": "3652e8ad",
   "metadata": {},
   "outputs": [
    {
     "name": "stdout",
     "output_type": "stream",
     "text": [
      "Enter a Year2024\n",
      "The Year 2024 is a LEAP YEAR\n"
     ]
    }
   ],
   "source": [
    "y=int(input(\"Enter a Year\"))\n",
    "if(y % 400 == 0 or (y % 100 !=0 and y % 4 == 0 )):\n",
    "    print(\"The Year {} is a LEAP YEAR\".format(y))\n",
    "else:\n",
    "    print(\"The Year {} is not a LEAP YEAR\".format(y))"
   ]
  },
  {
   "cell_type": "code",
   "execution_count": 10,
   "id": "b3ffd08c",
   "metadata": {},
   "outputs": [
    {
     "name": "stdout",
     "output_type": "stream",
     "text": [
      "Enter Three Numbers 6 7 9\n",
      "The sum is 22\n"
     ]
    }
   ],
   "source": [
    "num1, num2, num3 = (int(x) for x in input(\"Enter Three Numbers \").split())\n",
    "sum = 0\n",
    "if (num1 == num2 or num2 == num3 or num3 == num1):\n",
    "    print(\"The sum is\", sum)\n",
    "else:\n",
    "    sum = num1+num2+num3\n",
    "    print(\"The sum is\", sum)"
   ]
  },
  {
   "cell_type": "code",
   "execution_count": 15,
   "id": "35950ec0",
   "metadata": {},
   "outputs": [
    {
     "name": "stdout",
     "output_type": "stream",
     "text": [
      "Input the name of Month: koe\n",
      "No such month name exists\n"
     ]
    }
   ],
   "source": [
    "month_name = input(\"Input the name of Month: \")\n",
    "\n",
    "if (month_name == \"February\"):\n",
    "    print(\"No. of days 28/29 days\")\n",
    "elif (month_name in (\"April\", \"June\", \"September\", \"November\")):\n",
    "    print(\"No. of days 30 days\")\n",
    "elif (month_name in (\"January\", \"March\", \"May\", \"July\", \"August\", \"October\", \"December\")):\n",
    "    print(\"No. of days 31 day\")\n",
    "else:\n",
    "    print(\"No such month name exists\")"
   ]
  },
  {
   "cell_type": "code",
   "execution_count": 17,
   "id": "3106909a",
   "metadata": {},
   "outputs": [
    {
     "name": "stdout",
     "output_type": "stream",
     "text": [
      "Input lengths of the triangle sides: \n",
      "x: 8\n",
      "y: 8\n",
      "z: 9\n",
      "Isosceles triangle\n"
     ]
    }
   ],
   "source": [
    "print(\"Input lengths of the triangle sides: \")\n",
    "x = int(input(\"x: \"))\n",
    "y = int(input(\"y: \"))\n",
    "z = int(input(\"z: \"))\n",
    "\n",
    "if (x == y == z):\n",
    "    print(\"Equilateral triangle\")\n",
    "elif (x == y or y == z or z == x):\n",
    "    print(\"Isosceles triangle\")\n",
    "else:\n",
    "    print(\"Scalene triangle\")"
   ]
  },
  {
   "cell_type": "code",
   "execution_count": null,
   "id": "1d745bc9",
   "metadata": {},
   "outputs": [],
   "source": []
  },
  {
   "cell_type": "code",
   "execution_count": null,
   "id": "34a38838",
   "metadata": {},
   "outputs": [],
   "source": []
  },
  {
   "cell_type": "code",
   "execution_count": null,
   "id": "efe876a8",
   "metadata": {},
   "outputs": [],
   "source": []
  }
 ],
 "metadata": {
  "kernelspec": {
   "display_name": "Python 3 (ipykernel)",
   "language": "python",
   "name": "python3"
  },
  "language_info": {
   "codemirror_mode": {
    "name": "ipython",
    "version": 3
   },
   "file_extension": ".py",
   "mimetype": "text/x-python",
   "name": "python",
   "nbconvert_exporter": "python",
   "pygments_lexer": "ipython3",
   "version": "3.10.10"
  }
 },
 "nbformat": 4,
 "nbformat_minor": 5
}

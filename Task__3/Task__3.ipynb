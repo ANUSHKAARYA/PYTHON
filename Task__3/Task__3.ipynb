{
 "cells": [
  {
   "cell_type": "code",
   "execution_count": 2,
   "id": "81906500",
   "metadata": {},
   "outputs": [
    {
     "name": "stdout",
     "output_type": "stream",
     "text": [
      "Enter items in list 3 5 6 7 8\n",
      "Smallest item is 3\n"
     ]
    }
   ],
   "source": [
    " li= [int(x) for x in input(\"Enter items in list \").split()]\n",
    "print(\"Smallest item is\", min(li))"
   ]
  },
  {
   "cell_type": "code",
   "execution_count": 5,
   "id": "adef9679",
   "metadata": {},
   "outputs": [
    {
     "name": "stdout",
     "output_type": "stream",
     "text": [
      "Enter items in list 4\n",
      "The list is not empty\n"
     ]
    }
   ],
   "source": [
    "li = [int(x) for x in input(\"Enter items in list \").split()]\n",
    "if len(li) != 0:\n",
    "    print(\"The list is not empty\")\n",
    "else:\n",
    "    print(\"The list is empty\")"
   ]
  },
  {
   "cell_type": "code",
   "execution_count": 7,
   "id": "ec14d7fd",
   "metadata": {},
   "outputs": [
    {
     "name": "stdout",
     "output_type": "stream",
     "text": [
      "Enter items in list 1 2\n",
      "Enter items in list 2 3\n",
      "No Common Element Present\n"
     ]
    }
   ],
   "source": [
    "\n",
    "list1 = [int(x) for x in input(\"Enter items in list 1 \").split()]\n",
    "list2 = [int(x) for x in input(\"Enter items in list 2 \").split()]\n",
    "result = False\n",
    "for x in l1:\n",
    "    for y in l2:\n",
    "        if x == y:\n",
    "            result = True\n",
    "            break\n",
    "if result == True:\n",
    "    print(\"Atleast One Common Element is Present\")\n",
    "else:\n",
    "    print(\"No Common Element Present\")"
   ]
  },
  {
   "cell_type": "code",
   "execution_count": 8,
   "id": "e030a29d",
   "metadata": {},
   "outputs": [
    {
     "name": "stdout",
     "output_type": "stream",
     "text": [
      "Enter the list 1 items : 1\n",
      "Enter the list 2 items : 2\n",
      "['1', '2']\n"
     ]
    }
   ],
   "source": [
    "list1 = [x for x in input(\"Enter the list 1 items : \").split()]\n",
    "list2 = [x for x in input(\"Enter the list 2 items : \").split()]\n",
    "LIST = list1+list2\n",
    "print(lIST)"
   ]
  },
  {
   "cell_type": "code",
   "execution_count": 2,
   "id": "a6f177dd",
   "metadata": {},
   "outputs": [
    {
     "name": "stdout",
     "output_type": "stream",
     "text": [
      "Enter the list items : 2 3 4 5 6 7 8 9 \n",
      "['3', '4', '5', '8', '9']\n"
     ]
    }
   ],
   "source": [
    "li = [x for x in input(\"Enter the list items : \").split()]\n",
    "loc = [0, 4, 5]\n",
    "li = [element for (index, element) in enumerate(list) if index not in loc]\n",
    "print(li)"
   ]
  },
  {
   "cell_type": "code",
   "execution_count": 3,
   "id": "88de4fbd",
   "metadata": {},
   "outputs": [
    {
     "name": "stdout",
     "output_type": "stream",
     "text": [
      "Enter 10 integers :\n",
      "1\n",
      "2\n",
      "3\n",
      "4\n",
      "5\n",
      "6\n",
      "7\n",
      "8\n",
      "9\n",
      "3\n",
      "[3, 9, 8, 7, 6, 5, 4, 3, 2, 1]\n"
     ]
    }
   ],
   "source": [
    "list = []\n",
    "list2 = []\n",
    "print(\"Enter 10 integers :\")\n",
    "for i in range(0, 10):\n",
    "    b = int(input())\n",
    "    list.append(b)\n",
    "list2 = [list[-i] for i in range(1, len(list)+1)]\n",
    "print(list2)"
   ]
  },
  {
   "cell_type": "code",
   "execution_count": null,
   "id": "406b0a93",
   "metadata": {},
   "outputs": [],
   "source": []
  }
 ],
 "metadata": {
  "kernelspec": {
   "display_name": "Python 3 (ipykernel)",
   "language": "python",
   "name": "python3"
  },
  "language_info": {
   "codemirror_mode": {
    "name": "ipython",
    "version": 3
   },
   "file_extension": ".py",
   "mimetype": "text/x-python",
   "name": "python",
   "nbconvert_exporter": "python",
   "pygments_lexer": "ipython3",
   "version": "3.10.10"
  }
 },
 "nbformat": 4,
 "nbformat_minor": 5
}

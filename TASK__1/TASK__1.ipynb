{
 "cells": [
  {
   "cell_type": "code",
   "execution_count": 1,
   "id": "d26ded87",
   "metadata": {},
   "outputs": [
    {
     "name": "stdout",
     "output_type": "stream",
     "text": [
      "Input your first name:ANUSHKA\n",
      "input your last name:ARYA\n",
      "ARYA ANUSHKA\n"
     ]
    }
   ],
   "source": [
    "fname=input(\"Input your first name:\")\n",
    "lname=input(\"input your last name:\")\n",
    "print(lname+\" \"+fname)"
   ]
  },
  {
   "cell_type": "code",
   "execution_count": 3,
   "id": "b1913016",
   "metadata": {},
   "outputs": [
    {
     "name": "stdout",
     "output_type": "stream",
     "text": [
      "Enter the value of n: 5\n",
      "155\n"
     ]
    }
   ],
   "source": [
    "n=int(input(\"Enter the value of n: \"))\n",
    "cal=n+n*n+n**3\n",
    "print(cal)"
   ]
  },
  {
   "cell_type": "code",
   "execution_count": 4,
   "id": "93857eec",
   "metadata": {},
   "outputs": [
    {
     "name": "stdout",
     "output_type": "stream",
     "text": [
      "Name**Is**James\n"
     ]
    }
   ],
   "source": [
    "a ,b ,c= \"Name\",\"Is\",\"James\"\n",
    "print(a+\"**\"+b+\"**\"+c)"
   ]
  },
  {
   "cell_type": "code",
   "execution_count": 5,
   "id": "2f61947a",
   "metadata": {},
   "outputs": [
    {
     "name": "stdout",
     "output_type": "stream",
     "text": [
      "Enter a number766\n",
      "766.00\n"
     ]
    }
   ],
   "source": [
    "a=float(input(\"Enter a number\"))\n",
    "print(\"%.2f\" %a)"
   ]
  },
  {
   "cell_type": "code",
   "execution_count": 6,
   "id": "59da091d",
   "metadata": {},
   "outputs": [
    {
     "name": "stdout",
     "output_type": "stream",
     "text": [
      "Enter three string :Anushka ARYA QUEEN\n",
      "Anushka\n",
      "ARYA\n",
      "QUEEN\n"
     ]
    }
   ],
   "source": [
    "m,n,o=input(\"Enter three string :\").split()\n",
    "print(m)\n",
    "print(n)\n",
    "print(o)"
   ]
  },
  {
   "cell_type": "code",
   "execution_count": null,
   "id": "813765d5",
   "metadata": {},
   "outputs": [],
   "source": []
  }
 ],
 "metadata": {
  "kernelspec": {
   "display_name": "Python 3 (ipykernel)",
   "language": "python",
   "name": "python3"
  },
  "language_info": {
   "codemirror_mode": {
    "name": "ipython",
    "version": 3
   },
   "file_extension": ".py",
   "mimetype": "text/x-python",
   "name": "python",
   "nbconvert_exporter": "python",
   "pygments_lexer": "ipython3",
   "version": "3.10.10"
  }
 },
 "nbformat": 4,
 "nbformat_minor": 5
}
